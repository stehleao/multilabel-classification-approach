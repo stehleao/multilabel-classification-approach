{
 "cells": [
  {
   "cell_type": "code",
   "execution_count": 18,
   "metadata": {},
   "outputs": [],
   "source": [
    "import pandas as pd \n",
    "import numpy as np\n",
    "from sklearn.preprocessing import MultiLabelBinarizer"
   ]
  },
  {
   "cell_type": "code",
   "execution_count": 16,
   "metadata": {},
   "outputs": [
    {
     "data": {
      "text/html": [
       "<div>\n",
       "<style scoped>\n",
       "    .dataframe tbody tr th:only-of-type {\n",
       "        vertical-align: middle;\n",
       "    }\n",
       "\n",
       "    .dataframe tbody tr th {\n",
       "        vertical-align: top;\n",
       "    }\n",
       "\n",
       "    .dataframe thead th {\n",
       "        text-align: right;\n",
       "    }\n",
       "</style>\n",
       "<table border=\"1\" class=\"dataframe\">\n",
       "  <thead>\n",
       "    <tr style=\"text-align: right;\">\n",
       "      <th></th>\n",
       "      <th>content_review</th>\n",
       "      <th>sentiment_analysis</th>\n",
       "      <th>domain_name</th>\n",
       "      <th>label</th>\n",
       "    </tr>\n",
       "  </thead>\n",
       "  <tbody>\n",
       "    <tr>\n",
       "      <th>0</th>\n",
       "      <td>I love the app, I have used it for years The o...</td>\n",
       "      <td>Positive</td>\n",
       "      <td>PhotosVideos</td>\n",
       "      <td>Usa</td>\n",
       "    </tr>\n",
       "    <tr>\n",
       "      <th>1</th>\n",
       "      <td>It would be better if they actually released t...</td>\n",
       "      <td>Positive</td>\n",
       "      <td>PhotosVideos</td>\n",
       "      <td>Mis</td>\n",
       "    </tr>\n",
       "    <tr>\n",
       "      <th>2</th>\n",
       "      <td>Needs to be an option to pay monthly, or to op...</td>\n",
       "      <td>Negative</td>\n",
       "      <td>PhotosVideos</td>\n",
       "      <td>Mis</td>\n",
       "    </tr>\n",
       "    <tr>\n",
       "      <th>3</th>\n",
       "      <td>Please let there be a one week free trial I wo...</td>\n",
       "      <td>Positive</td>\n",
       "      <td>PhotosVideos</td>\n",
       "      <td>Mis</td>\n",
       "    </tr>\n",
       "    <tr>\n",
       "      <th>4</th>\n",
       "      <td>Can\\'t connect to server. Failed big time. Ple...</td>\n",
       "      <td>Negative</td>\n",
       "      <td>PhotosVideos</td>\n",
       "      <td>Sup</td>\n",
       "    </tr>\n",
       "    <tr>\n",
       "      <th>5</th>\n",
       "      <td>I Just got my new phone and the app asked for ...</td>\n",
       "      <td>Negative</td>\n",
       "      <td>PhotosVideos</td>\n",
       "      <td>Mis</td>\n",
       "    </tr>\n",
       "    <tr>\n",
       "      <th>6</th>\n",
       "      <td>I've been having keep safe since it came out a...</td>\n",
       "      <td>Negative</td>\n",
       "      <td>PhotosVideos</td>\n",
       "      <td>Sup,Usa</td>\n",
       "    </tr>\n",
       "    <tr>\n",
       "      <th>7</th>\n",
       "      <td>It keeps saying it cannot connect to server. I...</td>\n",
       "      <td>Negative</td>\n",
       "      <td>PhotosVideos</td>\n",
       "      <td>Sup</td>\n",
       "    </tr>\n",
       "    <tr>\n",
       "      <th>8</th>\n",
       "      <td>Logged in from a new device as a premium membe...</td>\n",
       "      <td>Neutral</td>\n",
       "      <td>PhotosVideos</td>\n",
       "      <td>Usa,Sup</td>\n",
       "    </tr>\n",
       "    <tr>\n",
       "      <th>9</th>\n",
       "      <td>Or syncing with the laptop. Although the pic o...</td>\n",
       "      <td>Neutral</td>\n",
       "      <td>PhotosVideos</td>\n",
       "      <td>Sup</td>\n",
       "    </tr>\n",
       "  </tbody>\n",
       "</table>\n",
       "</div>"
      ],
      "text/plain": [
       "                                      content_review sentiment_analysis  \\\n",
       "0  I love the app, I have used it for years The o...           Positive   \n",
       "1  It would be better if they actually released t...           Positive   \n",
       "2  Needs to be an option to pay monthly, or to op...           Negative   \n",
       "3  Please let there be a one week free trial I wo...           Positive   \n",
       "4  Can\\'t connect to server. Failed big time. Ple...           Negative   \n",
       "5  I Just got my new phone and the app asked for ...           Negative   \n",
       "6  I've been having keep safe since it came out a...           Negative   \n",
       "7  It keeps saying it cannot connect to server. I...           Negative   \n",
       "8  Logged in from a new device as a premium membe...            Neutral   \n",
       "9  Or syncing with the laptop. Although the pic o...            Neutral   \n",
       "\n",
       "    domain_name    label  \n",
       "0  PhotosVideos      Usa  \n",
       "1  PhotosVideos      Mis  \n",
       "2  PhotosVideos      Mis  \n",
       "3  PhotosVideos      Mis  \n",
       "4  PhotosVideos      Sup  \n",
       "5  PhotosVideos      Mis  \n",
       "6  PhotosVideos  Sup,Usa  \n",
       "7  PhotosVideos      Sup  \n",
       "8  PhotosVideos  Usa,Sup  \n",
       "9  PhotosVideos      Sup  "
      ]
     },
     "execution_count": 16,
     "metadata": {},
     "output_type": "execute_result"
    }
   ],
   "source": [
    "# Path para o arquivo train.csv\n",
    "data = pd.read_csv('bases/train.csv')\n",
    "\n",
    "data[0:10]"
   ]
  },
  {
   "cell_type": "code",
   "execution_count": 19,
   "metadata": {},
   "outputs": [
    {
     "data": {
      "text/html": [
       "<div>\n",
       "<style scoped>\n",
       "    .dataframe tbody tr th:only-of-type {\n",
       "        vertical-align: middle;\n",
       "    }\n",
       "\n",
       "    .dataframe tbody tr th {\n",
       "        vertical-align: top;\n",
       "    }\n",
       "\n",
       "    .dataframe thead th {\n",
       "        text-align: right;\n",
       "    }\n",
       "</style>\n",
       "<table border=\"1\" class=\"dataframe\">\n",
       "  <thead>\n",
       "    <tr style=\"text-align: right;\">\n",
       "      <th></th>\n",
       "      <th>content_review</th>\n",
       "      <th>sentiment_analysis</th>\n",
       "      <th>domain_name</th>\n",
       "      <th>label</th>\n",
       "      <th>label_dep</th>\n",
       "      <th>label_per</th>\n",
       "      <th>label_sup</th>\n",
       "      <th>label_usa</th>\n",
       "      <th>label_mis</th>\n",
       "    </tr>\n",
       "  </thead>\n",
       "  <tbody>\n",
       "    <tr>\n",
       "      <th>0</th>\n",
       "      <td>I love the app, I have used it for years The o...</td>\n",
       "      <td>Positive</td>\n",
       "      <td>PhotosVideos</td>\n",
       "      <td>Usa</td>\n",
       "      <td>0</td>\n",
       "      <td>0</td>\n",
       "      <td>0</td>\n",
       "      <td>1</td>\n",
       "      <td>0</td>\n",
       "    </tr>\n",
       "    <tr>\n",
       "      <th>1</th>\n",
       "      <td>It would be better if they actually released t...</td>\n",
       "      <td>Positive</td>\n",
       "      <td>PhotosVideos</td>\n",
       "      <td>Mis</td>\n",
       "      <td>0</td>\n",
       "      <td>0</td>\n",
       "      <td>0</td>\n",
       "      <td>0</td>\n",
       "      <td>1</td>\n",
       "    </tr>\n",
       "    <tr>\n",
       "      <th>2</th>\n",
       "      <td>Needs to be an option to pay monthly, or to op...</td>\n",
       "      <td>Negative</td>\n",
       "      <td>PhotosVideos</td>\n",
       "      <td>Mis</td>\n",
       "      <td>0</td>\n",
       "      <td>0</td>\n",
       "      <td>0</td>\n",
       "      <td>0</td>\n",
       "      <td>1</td>\n",
       "    </tr>\n",
       "    <tr>\n",
       "      <th>3</th>\n",
       "      <td>Please let there be a one week free trial I wo...</td>\n",
       "      <td>Positive</td>\n",
       "      <td>PhotosVideos</td>\n",
       "      <td>Mis</td>\n",
       "      <td>0</td>\n",
       "      <td>0</td>\n",
       "      <td>0</td>\n",
       "      <td>0</td>\n",
       "      <td>1</td>\n",
       "    </tr>\n",
       "    <tr>\n",
       "      <th>4</th>\n",
       "      <td>Can\\'t connect to server. Failed big time. Ple...</td>\n",
       "      <td>Negative</td>\n",
       "      <td>PhotosVideos</td>\n",
       "      <td>Sup</td>\n",
       "      <td>0</td>\n",
       "      <td>0</td>\n",
       "      <td>1</td>\n",
       "      <td>0</td>\n",
       "      <td>0</td>\n",
       "    </tr>\n",
       "    <tr>\n",
       "      <th>...</th>\n",
       "      <td>...</td>\n",
       "      <td>...</td>\n",
       "      <td>...</td>\n",
       "      <td>...</td>\n",
       "      <td>...</td>\n",
       "      <td>...</td>\n",
       "      <td>...</td>\n",
       "      <td>...</td>\n",
       "      <td>...</td>\n",
       "    </tr>\n",
       "    <tr>\n",
       "      <th>5995</th>\n",
       "      <td>I followed all the instructions airplane mode,...</td>\n",
       "      <td>Neutral</td>\n",
       "      <td>Lifestyle</td>\n",
       "      <td>Mis</td>\n",
       "      <td>0</td>\n",
       "      <td>0</td>\n",
       "      <td>0</td>\n",
       "      <td>0</td>\n",
       "      <td>1</td>\n",
       "    </tr>\n",
       "    <tr>\n",
       "      <th>5996</th>\n",
       "      <td>What a disappointment for 4.99 Ugh</td>\n",
       "      <td>Negative</td>\n",
       "      <td>Lifestyle</td>\n",
       "      <td>Mis</td>\n",
       "      <td>0</td>\n",
       "      <td>0</td>\n",
       "      <td>0</td>\n",
       "      <td>0</td>\n",
       "      <td>1</td>\n",
       "    </tr>\n",
       "    <tr>\n",
       "      <th>5997</th>\n",
       "      <td>I hate it ... this app does not work.</td>\n",
       "      <td>Negative</td>\n",
       "      <td>Lifestyle</td>\n",
       "      <td>Usa</td>\n",
       "      <td>0</td>\n",
       "      <td>0</td>\n",
       "      <td>0</td>\n",
       "      <td>1</td>\n",
       "      <td>0</td>\n",
       "    </tr>\n",
       "    <tr>\n",
       "      <th>5998</th>\n",
       "      <td>Im at 28 weeks, and I was able to listen to my...</td>\n",
       "      <td>Positive</td>\n",
       "      <td>Lifestyle</td>\n",
       "      <td>Mis</td>\n",
       "      <td>0</td>\n",
       "      <td>0</td>\n",
       "      <td>0</td>\n",
       "      <td>0</td>\n",
       "      <td>1</td>\n",
       "    </tr>\n",
       "    <tr>\n",
       "      <th>5999</th>\n",
       "      <td>I have had this app downloaded since I was may...</td>\n",
       "      <td>Positive</td>\n",
       "      <td>Lifestyle</td>\n",
       "      <td>Mis</td>\n",
       "      <td>0</td>\n",
       "      <td>0</td>\n",
       "      <td>0</td>\n",
       "      <td>0</td>\n",
       "      <td>1</td>\n",
       "    </tr>\n",
       "  </tbody>\n",
       "</table>\n",
       "<p>6000 rows × 9 columns</p>\n",
       "</div>"
      ],
      "text/plain": [
       "                                         content_review sentiment_analysis  \\\n",
       "0     I love the app, I have used it for years The o...           Positive   \n",
       "1     It would be better if they actually released t...           Positive   \n",
       "2     Needs to be an option to pay monthly, or to op...           Negative   \n",
       "3     Please let there be a one week free trial I wo...           Positive   \n",
       "4     Can\\'t connect to server. Failed big time. Ple...           Negative   \n",
       "...                                                 ...                ...   \n",
       "5995  I followed all the instructions airplane mode,...            Neutral   \n",
       "5996                What a disappointment for 4.99 Ugh            Negative   \n",
       "5997              I hate it ... this app does not work.           Negative   \n",
       "5998  Im at 28 weeks, and I was able to listen to my...           Positive   \n",
       "5999  I have had this app downloaded since I was may...           Positive   \n",
       "\n",
       "       domain_name label  label_dep  label_per  label_sup  label_usa  \\\n",
       "0     PhotosVideos   Usa          0          0          0          1   \n",
       "1     PhotosVideos   Mis          0          0          0          0   \n",
       "2     PhotosVideos   Mis          0          0          0          0   \n",
       "3     PhotosVideos   Mis          0          0          0          0   \n",
       "4     PhotosVideos   Sup          0          0          1          0   \n",
       "...            ...   ...        ...        ...        ...        ...   \n",
       "5995     Lifestyle   Mis          0          0          0          0   \n",
       "5996     Lifestyle   Mis          0          0          0          0   \n",
       "5997     Lifestyle   Usa          0          0          0          1   \n",
       "5998     Lifestyle   Mis          0          0          0          0   \n",
       "5999     Lifestyle   Mis          0          0          0          0   \n",
       "\n",
       "      label_mis  \n",
       "0             0  \n",
       "1             1  \n",
       "2             1  \n",
       "3             1  \n",
       "4             0  \n",
       "...         ...  \n",
       "5995          1  \n",
       "5996          1  \n",
       "5997          0  \n",
       "5998          1  \n",
       "5999          1  \n",
       "\n",
       "[6000 rows x 9 columns]"
      ]
     },
     "execution_count": 19,
     "metadata": {},
     "output_type": "execute_result"
    }
   ],
   "source": [
    "labels  = []\n",
    "\n",
    "for i in data['label']:\n",
    "    a = i.split(',')\n",
    "    labels.append(a)\n",
    "\n",
    "mlb = MultiLabelBinarizer(classes=(\"Dep\", \"Per\", \"Sup\", \"Usa\", \"Mis\"))\n",
    "labelsdf = pd.DataFrame(mlb.fit_transform(labels), columns=['Dep', 'Per', 'Sup', 'Usa', 'Mis']) \n",
    "data = data.assign(label_dep=labelsdf['Dep'].values, label_per=labelsdf['Per'].values, label_sup=labelsdf['Sup'].values, label_usa=labelsdf['Usa'].values, label_mis=labelsdf['Mis'].values)\n",
    "data"
   ]
  },
  {
   "cell_type": "code",
   "execution_count": 21,
   "metadata": {},
   "outputs": [
    {
     "data": {
      "text/plain": [
       "6000"
      ]
     },
     "execution_count": 21,
     "metadata": {},
     "output_type": "execute_result"
    }
   ],
   "source": [
    "len(data)"
   ]
  },
  {
   "cell_type": "code",
   "execution_count": 22,
   "metadata": {},
   "outputs": [
    {
     "name": "stdout",
     "output_type": "stream",
     "text": [
      "Label:  label_dep\n",
      "0    4967\n",
      "1    1033\n",
      "Name: label_dep, dtype: int64 \n",
      "\n",
      "Label:  label_per\n",
      "0    5885\n",
      "1     115\n",
      "Name: label_per, dtype: int64 \n",
      "\n",
      "Label:  label_sup\n",
      "0    5507\n",
      "1     493\n",
      "Name: label_sup, dtype: int64 \n",
      "\n",
      "Label:  label_usa\n",
      "0    4882\n",
      "1    1118\n",
      "Name: label_usa, dtype: int64 \n",
      "\n",
      "Label:  label_mis\n",
      "1    3631\n",
      "0    2369\n",
      "Name: label_mis, dtype: int64 \n",
      "\n"
     ]
    }
   ],
   "source": [
    "labels = data.iloc[:, 4:].columns.values\n",
    "\n",
    "for l in labels:\n",
    "  print(\"Label: \", l)\n",
    "  print(data[l].value_counts(), '\\n')"
   ]
  },
  {
   "cell_type": "code",
   "execution_count": 36,
   "metadata": {},
   "outputs": [],
   "source": [
    "import re\n",
    "\n",
    "def clean_text(text):\n",
    "    \n",
    "    text = text.encode('ascii', errors = 'ignore').decode() \n",
    "    text = text.lower() \n",
    "    text = re.sub(r'http\\S+', ' ', text) \n",
    "    text = re.sub(r'#+', ' ', text)\n",
    "    text = re.sub(r'@[A-Za-z0-9]+', ' ', text)\n",
    "    text = re.sub(r\"([A-Za-z]+)'s\", r\"\\1 is\", text)\n",
    "    text = re.sub(r\"what's\", \"what is \", text) \n",
    "    text = re.sub(r\"\\'s\", \" \", text)\n",
    "    text = re.sub(r\"won't\", \"will not \", text) \n",
    "    text = re.sub(r\"\\'ve\", \" have \", text) \n",
    "    text = re.sub(r\"can't\", \"can not \", text) \n",
    "    text = re.sub(r\"n't\", \" not \", text) \n",
    "    text = re.sub(r\"isn't\", \"is not \", text) \n",
    "    text = re.sub(r\"i'm\", \"i am \", text) \n",
    "    text = re.sub(r\"\\'re\", \" are \", text) \n",
    "    text = re.sub(r\"\\'d\", \" would \", text) \n",
    "    text = re.sub(r\"\\'ll\", \" will \", text)\n",
    "    text = re.sub(r\"\\'scuse\", \" excuse \", text)\n",
    "    text = re.sub('\\W', ' ', text)\n",
    "    text = re.sub('\\s+', ' ', text)\n",
    "    text = re.sub(r'\\d+', ' ', text)\n",
    "    text = text.strip(' ') \n",
    "    \n",
    "    return text"
   ]
  },
  {
   "cell_type": "code",
   "execution_count": 37,
   "metadata": {},
   "outputs": [
    {
     "name": "stderr",
     "output_type": "stream",
     "text": [
      "[nltk_data] Downloading package punkt to\n",
      "[nltk_data]     C:\\Users\\steph\\AppData\\Roaming\\nltk_data...\n",
      "[nltk_data]   Package punkt is already up-to-date!\n",
      "[nltk_data] Downloading package stopwords to\n",
      "[nltk_data]     C:\\Users\\steph\\AppData\\Roaming\\nltk_data...\n",
      "[nltk_data]   Package stopwords is already up-to-date!\n"
     ]
    }
   ],
   "source": [
    "import nltk\n",
    "nltk.download('punkt')\n",
    "nltk.download('stopwords')\n",
    "from nltk.corpus import stopwords \n",
    "from nltk.tokenize import word_tokenize \n",
    "\n",
    "def remove_stopwords(text):\n",
    "    \n",
    "  stop_words = set(stopwords.words('english')) \n",
    "\n",
    "  word_tokens = word_tokenize(text) \n",
    "\n",
    "  filtered_sentence = [w for w in word_tokens if not w in stop_words] \n",
    "      \n",
    "  return filtered_sentence"
   ]
  },
  {
   "cell_type": "code",
   "execution_count": 39,
   "metadata": {},
   "outputs": [
    {
     "name": "stderr",
     "output_type": "stream",
     "text": [
      "Limpando o texto: 100%|█████████████████████████████████████████████████████████| 6000/6000 [00:00<00:00, 13213.99it/s]\n",
      "Removendo as stopwords e tokenizando o texto: 100%|██████████████████████████████| 6000/6000 [00:03<00:00, 1677.96it/s]\n"
     ]
    },
    {
     "data": {
      "text/html": [
       "<div>\n",
       "<style scoped>\n",
       "    .dataframe tbody tr th:only-of-type {\n",
       "        vertical-align: middle;\n",
       "    }\n",
       "\n",
       "    .dataframe tbody tr th {\n",
       "        vertical-align: top;\n",
       "    }\n",
       "\n",
       "    .dataframe thead th {\n",
       "        text-align: right;\n",
       "    }\n",
       "</style>\n",
       "<table border=\"1\" class=\"dataframe\">\n",
       "  <thead>\n",
       "    <tr style=\"text-align: right;\">\n",
       "      <th></th>\n",
       "      <th>content_review</th>\n",
       "      <th>text_tokens</th>\n",
       "    </tr>\n",
       "  </thead>\n",
       "  <tbody>\n",
       "    <tr>\n",
       "      <th>0</th>\n",
       "      <td>I love the app, I have used it for years The o...</td>\n",
       "      <td>[love, app, used, years, problem, new, update,...</td>\n",
       "    </tr>\n",
       "    <tr>\n",
       "      <th>1</th>\n",
       "      <td>It would be better if they actually released t...</td>\n",
       "      <td>[would, better, actually, released, messages, ...</td>\n",
       "    </tr>\n",
       "    <tr>\n",
       "      <th>2</th>\n",
       "      <td>Needs to be an option to pay monthly, or to op...</td>\n",
       "      <td>[needs, option, pay, monthly, open, deleted, p...</td>\n",
       "    </tr>\n",
       "    <tr>\n",
       "      <th>3</th>\n",
       "      <td>Please let there be a one week free trial I wo...</td>\n",
       "      <td>[please, let, one, week, free, trial, would, g...</td>\n",
       "    </tr>\n",
       "    <tr>\n",
       "      <th>4</th>\n",
       "      <td>Can\\'t connect to server. Failed big time. Ple...</td>\n",
       "      <td>[connect, server, failed, big, time, please, f...</td>\n",
       "    </tr>\n",
       "  </tbody>\n",
       "</table>\n",
       "</div>"
      ],
      "text/plain": [
       "                                      content_review  \\\n",
       "0  I love the app, I have used it for years The o...   \n",
       "1  It would be better if they actually released t...   \n",
       "2  Needs to be an option to pay monthly, or to op...   \n",
       "3  Please let there be a one week free trial I wo...   \n",
       "4  Can\\'t connect to server. Failed big time. Ple...   \n",
       "\n",
       "                                         text_tokens  \n",
       "0  [love, app, used, years, problem, new, update,...  \n",
       "1  [would, better, actually, released, messages, ...  \n",
       "2  [needs, option, pay, monthly, open, deleted, p...  \n",
       "3  [please, let, one, week, free, trial, would, g...  \n",
       "4  [connect, server, failed, big, time, please, f...  "
      ]
     },
     "execution_count": 39,
     "metadata": {},
     "output_type": "execute_result"
    }
   ],
   "source": [
    "from tqdm import tqdm \n",
    "\n",
    "tqdm.pandas(desc='Limpando o texto')\n",
    "data['text_tokens'] = data['content_review'].progress_apply(clean_text)\n",
    "\n",
    "tqdm.pandas(desc='Removendo as stopwords e tokenizando o texto')\n",
    "data['text_tokens'] = data['text_tokens'].progress_apply(remove_stopwords)\n",
    "\n",
    "data[['content_review', 'text_tokens']].head()"
   ]
  },
  {
   "cell_type": "code",
   "execution_count": 44,
   "metadata": {},
   "outputs": [
    {
     "data": {
      "text/plain": [
       "8551"
      ]
     },
     "execution_count": 44,
     "metadata": {},
     "output_type": "execute_result"
    }
   ],
   "source": [
    "text_tokens = []\n",
    " \n",
    "for vet in data['text_tokens'].values:\n",
    "      text_tokens.extend(vet)\n",
    " \n",
    "num_words = len((list(set(text_tokens))))\n",
    "\n",
    "num_words"
   ]
  },
  {
   "cell_type": "code",
   "execution_count": 45,
   "metadata": {},
   "outputs": [
    {
     "data": {
      "text/html": [
       "<div>\n",
       "<style scoped>\n",
       "    .dataframe tbody tr th:only-of-type {\n",
       "        vertical-align: middle;\n",
       "    }\n",
       "\n",
       "    .dataframe tbody tr th {\n",
       "        vertical-align: top;\n",
       "    }\n",
       "\n",
       "    .dataframe thead th {\n",
       "        text-align: right;\n",
       "    }\n",
       "</style>\n",
       "<table border=\"1\" class=\"dataframe\">\n",
       "  <thead>\n",
       "    <tr style=\"text-align: right;\">\n",
       "      <th></th>\n",
       "      <th>content_review</th>\n",
       "      <th>text_tokens</th>\n",
       "      <th>X</th>\n",
       "    </tr>\n",
       "  </thead>\n",
       "  <tbody>\n",
       "    <tr>\n",
       "      <th>0</th>\n",
       "      <td>I love the app, I have used it for years The o...</td>\n",
       "      <td>[love, app, used, years, problem, new, update,...</td>\n",
       "      <td>[3, 1, 25, 76, 46, 20, 9, 485, 54, 538, 12, 16]</td>\n",
       "    </tr>\n",
       "    <tr>\n",
       "      <th>1</th>\n",
       "      <td>It would be better if they actually released t...</td>\n",
       "      <td>[would, better, actually, released, messages, ...</td>\n",
       "      <td>[5, 37, 187, 1527, 549, 194, 3378]</td>\n",
       "    </tr>\n",
       "    <tr>\n",
       "      <th>2</th>\n",
       "      <td>Needs to be an option to pay monthly, or to op...</td>\n",
       "      <td>[needs, option, pay, monthly, open, deleted, p...</td>\n",
       "      <td>[75, 118, 82, 716, 119, 231, 158, 97]</td>\n",
       "    </tr>\n",
       "    <tr>\n",
       "      <th>3</th>\n",
       "      <td>Please let there be a one week free trial I wo...</td>\n",
       "      <td>[please, let, one, week, free, trial, would, g...</td>\n",
       "      <td>[12, 107, 10, 232, 52, 2327, 5, 8, 378, 5, 6, ...</td>\n",
       "    </tr>\n",
       "    <tr>\n",
       "      <th>4</th>\n",
       "      <td>Can\\'t connect to server. Failed big time. Ple...</td>\n",
       "      <td>[connect, server, failed, big, time, please, f...</td>\n",
       "      <td>[870, 1652, 1827, 356, 7, 12, 16, 46]</td>\n",
       "    </tr>\n",
       "  </tbody>\n",
       "</table>\n",
       "</div>"
      ],
      "text/plain": [
       "                                      content_review  \\\n",
       "0  I love the app, I have used it for years The o...   \n",
       "1  It would be better if they actually released t...   \n",
       "2  Needs to be an option to pay monthly, or to op...   \n",
       "3  Please let there be a one week free trial I wo...   \n",
       "4  Can\\'t connect to server. Failed big time. Ple...   \n",
       "\n",
       "                                         text_tokens  \\\n",
       "0  [love, app, used, years, problem, new, update,...   \n",
       "1  [would, better, actually, released, messages, ...   \n",
       "2  [needs, option, pay, monthly, open, deleted, p...   \n",
       "3  [please, let, one, week, free, trial, would, g...   \n",
       "4  [connect, server, failed, big, time, please, f...   \n",
       "\n",
       "                                                   X  \n",
       "0    [3, 1, 25, 76, 46, 20, 9, 485, 54, 538, 12, 16]  \n",
       "1                 [5, 37, 187, 1527, 549, 194, 3378]  \n",
       "2              [75, 118, 82, 716, 119, 231, 158, 97]  \n",
       "3  [12, 107, 10, 232, 52, 2327, 5, 8, 378, 5, 6, ...  \n",
       "4              [870, 1652, 1827, 356, 7, 12, 16, 46]  "
      ]
     },
     "execution_count": 45,
     "metadata": {},
     "output_type": "execute_result"
    }
   ],
   "source": [
    "from keras.preprocessing.text import Tokenizer\n",
    "\n",
    "tok = Tokenizer(num_words=num_words)\n",
    "tok.fit_on_texts(data['text_tokens'].values)\n",
    "\n",
    "data['X'] = tok.texts_to_sequences(data['text_tokens'])\n",
    " \n",
    "data[['content_review', 'text_tokens', 'X']].head()"
   ]
  },
  {
   "cell_type": "code",
   "execution_count": 46,
   "metadata": {},
   "outputs": [
    {
     "data": {
      "text/html": [
       "<div>\n",
       "<style scoped>\n",
       "    .dataframe tbody tr th:only-of-type {\n",
       "        vertical-align: middle;\n",
       "    }\n",
       "\n",
       "    .dataframe tbody tr th {\n",
       "        vertical-align: top;\n",
       "    }\n",
       "\n",
       "    .dataframe thead th {\n",
       "        text-align: right;\n",
       "    }\n",
       "</style>\n",
       "<table border=\"1\" class=\"dataframe\">\n",
       "  <thead>\n",
       "    <tr style=\"text-align: right;\">\n",
       "      <th></th>\n",
       "      <th>content_review</th>\n",
       "      <th>text_tokens</th>\n",
       "      <th>num_words</th>\n",
       "    </tr>\n",
       "  </thead>\n",
       "  <tbody>\n",
       "    <tr>\n",
       "      <th>2884</th>\n",
       "      <td>Pokmon go, is an awesome game, but apparently ...</td>\n",
       "      <td>[pokmon, go, awesome, game, apparently, nianti...</td>\n",
       "      <td>166</td>\n",
       "    </tr>\n",
       "    <tr>\n",
       "      <th>4454</th>\n",
       "      <td>I have to say that after using this app compar...</td>\n",
       "      <td>[say, using, app, compared, multitude, weather...</td>\n",
       "      <td>107</td>\n",
       "    </tr>\n",
       "    <tr>\n",
       "      <th>2934</th>\n",
       "      <td>I appreciate the effort that has gone into thi...</td>\n",
       "      <td>[appreciate, effort, gone, game, time, still, ...</td>\n",
       "      <td>105</td>\n",
       "    </tr>\n",
       "    <tr>\n",
       "      <th>2914</th>\n",
       "      <td>The fourth is being led into by my third, and ...</td>\n",
       "      <td>[fourth, led, third, new, legendary, raids, le...</td>\n",
       "      <td>103</td>\n",
       "    </tr>\n",
       "    <tr>\n",
       "      <th>1278</th>\n",
       "      <td>The filters offered within this application ar...</td>\n",
       "      <td>[filters, offered, within, application, really...</td>\n",
       "      <td>99</td>\n",
       "    </tr>\n",
       "  </tbody>\n",
       "</table>\n",
       "</div>"
      ],
      "text/plain": [
       "                                         content_review  \\\n",
       "2884  Pokmon go, is an awesome game, but apparently ...   \n",
       "4454  I have to say that after using this app compar...   \n",
       "2934  I appreciate the effort that has gone into thi...   \n",
       "2914  The fourth is being led into by my third, and ...   \n",
       "1278  The filters offered within this application ar...   \n",
       "\n",
       "                                            text_tokens  num_words  \n",
       "2884  [pokmon, go, awesome, game, apparently, nianti...        166  \n",
       "4454  [say, using, app, compared, multitude, weather...        107  \n",
       "2934  [appreciate, effort, gone, game, time, still, ...        105  \n",
       "2914  [fourth, led, third, new, legendary, raids, le...        103  \n",
       "1278  [filters, offered, within, application, really...         99  "
      ]
     },
     "execution_count": 46,
     "metadata": {},
     "output_type": "execute_result"
    }
   ],
   "source": [
    "data['num_words'] = data['text_tokens'].apply(lambda x : len(x))\n",
    " \n",
    "max_num_words = data['num_words'].max()\n",
    " \n",
    "data[['content_review', 'text_tokens', 'num_words']].nlargest(5, 'num_words')"
   ]
  },
  {
   "cell_type": "code",
   "execution_count": 47,
   "metadata": {},
   "outputs": [
    {
     "name": "stdout",
     "output_type": "stream",
     "text": [
      "Dimensão do X: (6000, 166)\n",
      "Dimensão do y: (6000, 5)\n"
     ]
    }
   ],
   "source": [
    "from tensorflow.keras.preprocessing.sequence import pad_sequences\n",
    " \n",
    "X = pad_sequences(maxlen=max_num_words, sequences=data['X'], value=0, padding='post', truncating='post')\n",
    "y = data[labels].values\n",
    " \n",
    "print('Dimensão do X: {}'.format(X.shape))\n",
    "print('Dimensão do y: {}'.format(y.shape))"
   ]
  },
  {
   "cell_type": "code",
   "execution_count": 48,
   "metadata": {},
   "outputs": [
    {
     "data": {
      "text/plain": [
       "(((4800, 166), (4800, 5)), ((1200, 166), (1200, 5)))"
      ]
     },
     "execution_count": 48,
     "metadata": {},
     "output_type": "execute_result"
    }
   ],
   "source": [
    "from sklearn.model_selection import train_test_split\n",
    "\n",
    "X_tr, X_te, y_tr, y_te = train_test_split(X, y, random_state=42, test_size=0.2)\n",
    "(X_tr.shape, y_tr.shape), (X_te.shape, y_te.shape)"
   ]
  },
  {
   "cell_type": "code",
   "execution_count": 49,
   "metadata": {},
   "outputs": [
    {
     "data": {
      "text/plain": [
       "(((4798, 166), (4798, 5)), ((1202, 166), (1202, 5)))"
      ]
     },
     "execution_count": 49,
     "metadata": {},
     "output_type": "execute_result"
    }
   ],
   "source": [
    "from skmultilearn.model_selection import iterative_train_test_split\n",
    "\n",
    "np.random.seed(42)\n",
    "X_train, y_train, X_test, y_test = iterative_train_test_split(X, y, test_size=0.2)\n",
    "(X_train.shape, y_train.shape), (X_test.shape, y_test.shape)"
   ]
  },
  {
   "cell_type": "code",
   "execution_count": 53,
   "metadata": {},
   "outputs": [
    {
     "name": "stdout",
     "output_type": "stream",
     "text": [
      "Acurácia =  0.5507487520798668\n"
     ]
    }
   ],
   "source": [
    "from sklearn.svm import SVC\n",
    "from xgboost import XGBClassifier\n",
    "from skmultilearn.problem_transform import BinaryRelevance\n",
    "from sklearn.metrics import accuracy_score\n",
    "\n",
    "BR = BinaryRelevance(classifier=SVC(), require_dense=[False, True])\n",
    "\n",
    "BR.fit(X_train, y_train)\n",
    "\n",
    "y_pred = BR.predict(X_test)\n",
    "\n",
    "print(\"Acurácia = \", accuracy_score(y_test, y_pred))"
   ]
  },
  {
   "cell_type": "code",
   "execution_count": 54,
   "metadata": {},
   "outputs": [
    {
     "name": "stdout",
     "output_type": "stream",
     "text": [
      "Acurácia =  0.5491666666666667\n"
     ]
    }
   ],
   "source": [
    "BR.fit(X_tr, y_tr)\n",
    "\n",
    "y_pr = BR.predict(X_te)\n",
    "\n",
    "print(\"Acurácia = \", accuracy_score(y_te, y_pr))"
   ]
  },
  {
   "cell_type": "code",
   "execution_count": 55,
   "metadata": {},
   "outputs": [
    {
     "name": "stdout",
     "output_type": "stream",
     "text": [
      "Acurácia =  0.6031613976705491\n"
     ]
    }
   ],
   "source": [
    "from skmultilearn.problem_transform import ClassifierChain\n",
    "\n",
    "CC = ClassifierChain(classifier=XGBClassifier(), require_dense=[False, True])\n",
    "\n",
    "CC.fit(X_train, y_train)\n",
    "\n",
    "y_pred = CC.predict(X_test)\n",
    "\n",
    "print(\"Acurácia = \", accuracy_score(y_test, y_pred))"
   ]
  },
  {
   "cell_type": "code",
   "execution_count": 56,
   "metadata": {},
   "outputs": [
    {
     "name": "stdout",
     "output_type": "stream",
     "text": [
      "Acurácia =  0.5916666666666667\n"
     ]
    }
   ],
   "source": [
    "CC.fit(X_tr, y_tr)\n",
    "\n",
    "y_pr = CC.predict(X_te)\n",
    "\n",
    "print(\"Acurácia = \", accuracy_score(y_te, y_pr))"
   ]
  },
  {
   "cell_type": "code",
   "execution_count": 57,
   "metadata": {},
   "outputs": [
    {
     "name": "stdout",
     "output_type": "stream",
     "text": [
      "Acurácia =  0.6039933444259568\n"
     ]
    }
   ],
   "source": [
    "from skmultilearn.problem_transform import LabelPowerset\n",
    "from sklearn.ensemble import RandomForestClassifier\n",
    "\n",
    "LP = LabelPowerset(classifier=RandomForestClassifier(n_estimators=100), require_dense=[False, True])\n",
    "\n",
    "LP.fit(X_train, y_train)\n",
    "\n",
    "y_pred = LP.predict(X_test)\n",
    "\n",
    "print(\"Acurácia = \", accuracy_score(y_test, y_pred))"
   ]
  },
  {
   "cell_type": "code",
   "execution_count": 58,
   "metadata": {},
   "outputs": [
    {
     "name": "stdout",
     "output_type": "stream",
     "text": [
      "Acurácia =  0.6075\n"
     ]
    }
   ],
   "source": [
    "LP.fit(X_tr, y_tr)\n",
    "\n",
    "y_pr = LP.predict(X_te)\n",
    "\n",
    "print(\"Acurácia = \", accuracy_score(y_te, y_pr))"
   ]
  },
  {
   "cell_type": "code",
   "execution_count": null,
   "metadata": {},
   "outputs": [],
   "source": []
  }
 ],
 "metadata": {
  "kernelspec": {
   "display_name": "Python 3",
   "language": "python",
   "name": "python3"
  },
  "language_info": {
   "codemirror_mode": {
    "name": "ipython",
    "version": 3
   },
   "file_extension": ".py",
   "mimetype": "text/x-python",
   "name": "python",
   "nbconvert_exporter": "python",
   "pygments_lexer": "ipython3",
   "version": "3.8.3"
  }
 },
 "nbformat": 4,
 "nbformat_minor": 4
}
