{
 "cells": [
  {
   "cell_type": "code",
   "execution_count": 1,
   "metadata": {},
   "outputs": [],
   "source": [
    "%run imports.ipynb\n",
    "%run utils.ipynb\n",
    "\n",
    "from sklearn import preprocessing"
   ]
  },
  {
   "cell_type": "code",
   "execution_count": 2,
   "metadata": {},
   "outputs": [],
   "source": [
    "data = pd.read_csv('bases/train.csv')\n",
    "\n",
    "lines = [line.rstrip('\\n') for line in open('bases/Reviews + Sentiment.txt','r',  encoding=\"utf8\")]\n",
    "data = data.assign(content_reviewSentiments = np.array(lines))"
   ]
  },
  {
   "cell_type": "code",
   "execution_count": 3,
   "metadata": {},
   "outputs": [
    {
     "data": {
      "text/html": [
       "<div>\n",
       "<style scoped>\n",
       "    .dataframe tbody tr th:only-of-type {\n",
       "        vertical-align: middle;\n",
       "    }\n",
       "\n",
       "    .dataframe tbody tr th {\n",
       "        vertical-align: top;\n",
       "    }\n",
       "\n",
       "    .dataframe thead th {\n",
       "        text-align: right;\n",
       "    }\n",
       "</style>\n",
       "<table border=\"1\" class=\"dataframe\">\n",
       "  <thead>\n",
       "    <tr style=\"text-align: right;\">\n",
       "      <th></th>\n",
       "      <th>content_review</th>\n",
       "      <th>sentiment_analysis</th>\n",
       "      <th>domain_name</th>\n",
       "      <th>label</th>\n",
       "      <th>content_reviewSentiments</th>\n",
       "      <th>label_dep</th>\n",
       "      <th>label_per</th>\n",
       "      <th>label_sup</th>\n",
       "      <th>label_usa</th>\n",
       "      <th>label_mis</th>\n",
       "    </tr>\n",
       "  </thead>\n",
       "  <tbody>\n",
       "    <tr>\n",
       "      <th>0</th>\n",
       "      <td>I love the app, I have used it for years The o...</td>\n",
       "      <td>Positive</td>\n",
       "      <td>PhotosVideos</td>\n",
       "      <td>Usa</td>\n",
       "      <td>I love the app, I have used it for years The o...</td>\n",
       "      <td>0</td>\n",
       "      <td>0</td>\n",
       "      <td>0</td>\n",
       "      <td>1</td>\n",
       "      <td>0</td>\n",
       "    </tr>\n",
       "    <tr>\n",
       "      <th>1</th>\n",
       "      <td>It would be better if they actually released t...</td>\n",
       "      <td>Positive</td>\n",
       "      <td>PhotosVideos</td>\n",
       "      <td>Mis</td>\n",
       "      <td>It would be better if they actually released t...</td>\n",
       "      <td>0</td>\n",
       "      <td>0</td>\n",
       "      <td>0</td>\n",
       "      <td>0</td>\n",
       "      <td>1</td>\n",
       "    </tr>\n",
       "    <tr>\n",
       "      <th>2</th>\n",
       "      <td>Needs to be an option to pay monthly, or to op...</td>\n",
       "      <td>Negative</td>\n",
       "      <td>PhotosVideos</td>\n",
       "      <td>Mis</td>\n",
       "      <td>Needs to be an option to pay monthly, or to op...</td>\n",
       "      <td>0</td>\n",
       "      <td>0</td>\n",
       "      <td>0</td>\n",
       "      <td>0</td>\n",
       "      <td>1</td>\n",
       "    </tr>\n",
       "    <tr>\n",
       "      <th>3</th>\n",
       "      <td>Please let there be a one week free trial I wo...</td>\n",
       "      <td>Positive</td>\n",
       "      <td>PhotosVideos</td>\n",
       "      <td>Mis</td>\n",
       "      <td>Please let there be a one week free trial I wo...</td>\n",
       "      <td>0</td>\n",
       "      <td>0</td>\n",
       "      <td>0</td>\n",
       "      <td>0</td>\n",
       "      <td>1</td>\n",
       "    </tr>\n",
       "    <tr>\n",
       "      <th>4</th>\n",
       "      <td>Can\\'t connect to server. Failed big time. Ple...</td>\n",
       "      <td>Negative</td>\n",
       "      <td>PhotosVideos</td>\n",
       "      <td>Sup</td>\n",
       "      <td>Can\\'t connect to server. Failed big time. Ple...</td>\n",
       "      <td>0</td>\n",
       "      <td>0</td>\n",
       "      <td>1</td>\n",
       "      <td>0</td>\n",
       "      <td>0</td>\n",
       "    </tr>\n",
       "  </tbody>\n",
       "</table>\n",
       "</div>"
      ],
      "text/plain": [
       "                                      content_review sentiment_analysis  \\\n",
       "0  I love the app, I have used it for years The o...           Positive   \n",
       "1  It would be better if they actually released t...           Positive   \n",
       "2  Needs to be an option to pay monthly, or to op...           Negative   \n",
       "3  Please let there be a one week free trial I wo...           Positive   \n",
       "4  Can\\'t connect to server. Failed big time. Ple...           Negative   \n",
       "\n",
       "    domain_name label                           content_reviewSentiments  \\\n",
       "0  PhotosVideos   Usa  I love the app, I have used it for years The o...   \n",
       "1  PhotosVideos   Mis  It would be better if they actually released t...   \n",
       "2  PhotosVideos   Mis  Needs to be an option to pay monthly, or to op...   \n",
       "3  PhotosVideos   Mis  Please let there be a one week free trial I wo...   \n",
       "4  PhotosVideos   Sup  Can\\'t connect to server. Failed big time. Ple...   \n",
       "\n",
       "   label_dep  label_per  label_sup  label_usa  label_mis  \n",
       "0          0          0          0          1          0  \n",
       "1          0          0          0          0          1  \n",
       "2          0          0          0          0          1  \n",
       "3          0          0          0          0          1  \n",
       "4          0          0          1          0          0  "
      ]
     },
     "execution_count": 3,
     "metadata": {},
     "output_type": "execute_result"
    }
   ],
   "source": [
    "labels  = data['label']\n",
    "\n",
    "mlb = MultiLabelBinarizer(classes=(\"Dep\", \"Per\", \"Sup\", \"Usa\", \"Mis\"))\n",
    "labelsdf = pd.DataFrame(mlb.fit_transform(labels), columns=['Dep', 'Per', 'Sup', 'Usa', 'Mis']) \n",
    "data = data.assign(label_dep=labelsdf['Dep'].values, label_per=labelsdf['Per'].values, label_sup=labelsdf['Sup'].values, label_usa=labelsdf['Usa'].values, label_mis=labelsdf['Mis'].values)\n",
    "data.head(5)"
   ]
  },
  {
   "cell_type": "code",
   "execution_count": 4,
   "metadata": {},
   "outputs": [],
   "source": [
    "from gensim import utils\n",
    "import gensim.parsing.preprocessing as gsp\n",
    "\n",
    "filters = [\n",
    "           gsp.strip_tags, \n",
    "           gsp.strip_punctuation,\n",
    "           gsp.strip_multiple_whitespaces,\n",
    "           gsp.strip_numeric,\n",
    "           gsp.remove_stopwords, \n",
    "           gsp.strip_short, \n",
    "           gsp.stem_text\n",
    "          ]\n",
    "\n",
    "def clean_text(s):\n",
    "    s = s.lower()\n",
    "    s = utils.to_unicode(s)\n",
    "    for f in filters:\n",
    "        s = f(s)\n",
    "    return s"
   ]
  },
  {
   "cell_type": "code",
   "execution_count": 5,
   "metadata": {},
   "outputs": [],
   "source": [
    "#X = data['content_review'].apply(clean_text)\n",
    "X = data['content_reviewSentiments'].apply(clean_text)\n",
    "y = data.iloc[:, 5:9].values"
   ]
  },
  {
   "cell_type": "code",
   "execution_count": 6,
   "metadata": {},
   "outputs": [
    {
     "data": {
      "text/plain": [
       "(((4800,), (4800, 4)), ((1200,), (1200, 4)))"
      ]
     },
     "execution_count": 6,
     "metadata": {},
     "output_type": "execute_result"
    }
   ],
   "source": [
    "from sklearn.model_selection import train_test_split\n",
    "\n",
    "X_tr, X_te, y_tr, y_te = train_test_split(X, y, random_state=42, test_size=0.2)\n",
    "(X_tr.shape, y_tr.shape), (X_te.shape, y_te.shape)"
   ]
  },
  {
   "cell_type": "code",
   "execution_count": 18,
   "metadata": {},
   "outputs": [],
   "source": [
    "count_vectorizer = CountVectorizer()\n",
    "count_train = count_vectorizer.fit_transform(X_tr) \n",
    "count_test = count_vectorizer.transform(X_te)\n",
    "\n",
    "tfidf_vectorizer = TfidfVectorizer() \n",
    "tfidf_train = tfidf_vectorizer.fit_transform(X_tr) \n",
    "tfidf_test = tfidf_vectorizer.transform(X_te)"
   ]
  },
  {
   "cell_type": "code",
   "execution_count": 21,
   "metadata": {},
   "outputs": [
    {
     "name": "stdout",
     "output_type": "stream",
     "text": [
      "Acurácia =  0.725\n"
     ]
    }
   ],
   "source": [
    "from sklearn.svm import SVC\n",
    "from xgboost import XGBClassifier\n",
    "from skmultilearn.problem_transform import BinaryRelevance\n",
    "from sklearn.metrics import accuracy_score\n",
    "from skmultilearn.problem_transform import ClassifierChain\n",
    "\n",
    "CC = ClassifierChain(classifier=XGBClassifier(), require_dense=[False, True])\n",
    "\n",
    "CC.fit(tfidf_train, y_tr)\n",
    "y_pred = CC.predict(tfidf_test)\n",
    "\n",
    "print(\"Acurácia = \", accuracy_score(y_te, y_pred))"
   ]
  },
  {
   "cell_type": "code",
   "execution_count": 19,
   "metadata": {},
   "outputs": [
    {
     "name": "stdout",
     "output_type": "stream",
     "text": [
      "Acurácia =  0.7008333333333333\n"
     ]
    }
   ],
   "source": [
    "CC.fit(count_train, y_tr)\n",
    "y_pred = CC.predict(count_test)\n",
    "\n",
    "print(\"Acurácia = \", accuracy_score(y_te, y_pred))"
   ]
  },
  {
   "cell_type": "code",
   "execution_count": 30,
   "metadata": {},
   "outputs": [
    {
     "name": "stdout",
     "output_type": "stream",
     "text": [
      "Precision Score :  0.7068965517241379\n",
      "Recall Score :  0.47018712729814116\n"
     ]
    }
   ],
   "source": [
    "print(\"Precision Score : \",precision_score(y_te, y_pred, average='micro'))\n",
    "print(\"Recall Score : \",recall_score(y_te, y_pred, average='macro'))"
   ]
  },
  {
   "cell_type": "code",
   "execution_count": null,
   "metadata": {},
   "outputs": [],
   "source": []
  }
 ],
 "metadata": {
  "kernelspec": {
   "display_name": "Python 3",
   "language": "python",
   "name": "python3"
  },
  "language_info": {
   "codemirror_mode": {
    "name": "ipython",
    "version": 3
   },
   "file_extension": ".py",
   "mimetype": "text/x-python",
   "name": "python",
   "nbconvert_exporter": "python",
   "pygments_lexer": "ipython3",
   "version": "3.8.3"
  }
 },
 "nbformat": 4,
 "nbformat_minor": 4
}
